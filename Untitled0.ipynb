{
  "nbformat": 4,
  "nbformat_minor": 0,
  "metadata": {
    "colab": {
      "provenance": [],
      "include_colab_link": true
    },
    "kernelspec": {
      "name": "python3",
      "display_name": "Python 3"
    },
    "language_info": {
      "name": "python"
    }
  },
  "cells": [
    {
      "cell_type": "markdown",
      "metadata": {
        "id": "view-in-github",
        "colab_type": "text"
      },
      "source": [
        "<a href=\"https://colab.research.google.com/github/ishitaarana/ishitaarana/blob/main/Untitled0.ipynb\" target=\"_parent\"><img src=\"https://colab.research.google.com/assets/colab-badge.svg\" alt=\"Open In Colab\"/></a>"
      ]
    },
    {
      "cell_type": "code",
      "execution_count": 5,
      "metadata": {
        "colab": {
          "base_uri": "https://localhost:8080/"
        },
        "id": "74gVetC9ZrTZ",
        "outputId": "4dc64564-97a7-418f-f3f5-b77a9176866d"
      },
      "outputs": [
        {
          "output_type": "stream",
          "name": "stdout",
          "text": [
            "Index(['battery_power', 'blue', 'clock_speed', 'dual_sim', 'fc', 'four_g',\n",
            "       'int_memory', 'm_dep', 'mobile_wt', 'n_cores', 'pc', 'px_height',\n",
            "       'px_width', 'ram', 'sc_h', 'sc_w', 'talk_time', 'three_g',\n",
            "       'touch_screen', 'wifi', 'price_range'],\n",
            "      dtype='object')\n",
            "Mean Squared Error: 0.10469290211930674\n",
            "R-squared: 0.9215339010437136\n",
            "Accuracy: 92.15339010437135\n"
          ]
        }
      ],
      "source": [
        "import pandas as pd\n",
        "import numpy as np\n",
        "import matplotlib.pyplot as plt\n",
        "from sklearn.linear_model import LinearRegression\n",
        "from sklearn.model_selection import train_test_split\n",
        "from sklearn.metrics import  mean_squared_error, r2_score\n",
        "\n",
        "# load the dataset\n",
        "data = pd.read_csv('https://raw.githubusercontent.com/alifrmf/Mobile-Price-Prediction-Classification-Analysis/main/Mobile-data-train.csv')\n",
        "\n",
        "# print column names\n",
        "print(data.columns)\n",
        "\n",
        "# separate the features and target variable\n",
        "X = data.drop(['price_range'], axis=1)\n",
        "y = data['price_range']\n",
        "\n",
        "# split the dataset into training and testing sets\n",
        "X_train, X_test, y_train, y_test = train_test_split(X, y, test_size=0.2, random_state=42)\n",
        "\n",
        "# create a linear regression model\n",
        "model = LinearRegression()\n",
        "\n",
        "# fit the model on the training data\n",
        "model.fit(X_train, y_train)\n",
        "\n",
        "# make predictions on the testing data\n",
        "y_pred = model.predict(X_test)\n",
        "\n",
        "# evaluate the model using mean squared error and R-squared\n",
        "mse = mean_squared_error(y_test, y_pred)\n",
        "r2 = r2_score(y_test, y_pred)\n",
        "\n",
        "print('Mean Squared Error:', mse)\n",
        "print('R-squared:', r2)\n",
        "\n",
        "# Calculate the accuracy\n",
        "accuracy = r2 * 100\n",
        "print('Accuracy:', accuracy)\n",
        "\n",
        "\n"
      ]
    },
    {
      "cell_type": "code",
      "source": [
        "import pandas as pd\n",
        "import numpy as np\n",
        "from sklearn.tree import DecisionTreeClassifier\n",
        "from sklearn.model_selection import train_test_split\n",
        "from sklearn.metrics import accuracy_score\n",
        "\n",
        "# load the dataset\n",
        "data = pd.read_csv('https://raw.githubusercontent.com/alifrmf/Mobile-Price-Prediction-Classification-Analysis/main/Mobile-data-train.csv')\n",
        "\n",
        "# separate the features and target variable\n",
        "X = data.drop(['price_range'], axis=1)\n",
        "y = data['price_range']\n",
        "\n",
        "# split the dataset into training and testing sets\n",
        "X_train, X_test, y_train, y_test = train_test_split(X, y, test_size=0.2, random_state=42)\n",
        "\n",
        "# create a decision tree classifier\n",
        "model = DecisionTreeClassifier(random_state=42)\n",
        "\n",
        "# fit the model on the training data\n",
        "model.fit(X_train, y_train)\n",
        "\n",
        "# make predictions on the testing data\n",
        "y_pred = model.predict(X_test)\n",
        "\n",
        "# calculate the accuracy of the model\n",
        "accuracy = accuracy_score(y_test, y_pred)\n",
        "\n",
        "print('Accuracy:', accuracy)\n"
      ],
      "metadata": {
        "colab": {
          "base_uri": "https://localhost:8080/"
        },
        "id": "TdNiKtMNZsVq",
        "outputId": "17ae9d2c-9dfe-4b11-98cf-fa07decc2881"
      },
      "execution_count": 8,
      "outputs": [
        {
          "output_type": "stream",
          "name": "stdout",
          "text": [
            "Accuracy: 0.8325\n"
          ]
        }
      ]
    },
    {
      "cell_type": "code",
      "source": [
        "\n",
        "import pandas as pd\n",
        "import numpy as np\n",
        "from sklearn.ensemble import RandomForestClassifier\n",
        "from sklearn.model_selection import train_test_split\n",
        "from sklearn.metrics import accuracy_score\n",
        "\n",
        "# load the dataset\n",
        "data = pd.read_csv('https://raw.githubusercontent.com/alifrmf/Mobile-Price-Prediction-Classification-Analysis/main/Mobile-data-train.csv')\n",
        "\n",
        "# separate the features and target variable\n",
        "X = data.drop(['price_range'], axis=1)\n",
        "y = data['price_range']\n",
        "\n",
        "# split the dataset into training and testing sets\n",
        "X_train, X_test, y_train, y_test = train_test_split(X, y, test_size=0.2, random_state=42)\n",
        "\n",
        "# create a random forest classifier\n",
        "model = RandomForestClassifier(random_state=42)\n",
        "\n",
        "# fit the model on the training data\n",
        "model.fit(X_train, y_train)\n",
        "\n",
        "# make predictions on the testing data\n",
        "y_pred = model.predict(X_test)\n",
        "\n",
        "# calculate the accuracy of the model\n",
        "accuracy = accuracy_score(y_test, y_pred)\n",
        "\n",
        "print('Accuracy:', accuracy)\n"
      ],
      "metadata": {
        "colab": {
          "base_uri": "https://localhost:8080/"
        },
        "id": "U9UciXA6Z1Dv",
        "outputId": "bc10f49b-2abf-4c05-80e0-74249871d6f8"
      },
      "execution_count": 9,
      "outputs": [
        {
          "output_type": "stream",
          "name": "stdout",
          "text": [
            "Accuracy: 0.8925\n"
          ]
        }
      ]
    },
    {
      "cell_type": "code",
      "source": [
        "import pandas as pd\n",
        "import numpy as np\n",
        "from sklearn.svm import SVC\n",
        "from sklearn.model_selection import train_test_split\n",
        "from sklearn.metrics import accuracy_score\n",
        "\n",
        "# load the dataset\n",
        "data = pd.read_csv('https://raw.githubusercontent.com/alifrmf/Mobile-Price-Prediction-Classification-Analysis/main/Mobile-data-train.csv')\n",
        "\n",
        "# separate the features and target variable\n",
        "X = data.drop(['price_range'], axis=1)\n",
        "y = data['price_range']\n",
        "\n",
        "# split the dataset into training and testing sets\n",
        "X_train, X_test, y_train, y_test = train_test_split(X, y, test_size=0.2, random_state=42)\n",
        "\n",
        "# create a support vector machine classifier\n",
        "model = SVC(random_state=42)\n",
        "\n",
        "# fit the model on the training data\n",
        "model.fit(X_train, y_train)\n",
        "\n",
        "# make predictions on the testing data\n",
        "y_pred = model.predict(X_test)\n",
        "\n",
        "# calculate the accuracy of the model\n",
        "accuracy = accuracy_score(y_test, y_pred)\n",
        "\n",
        "print('Accuracy:', accuracy)\n"
      ],
      "metadata": {
        "colab": {
          "base_uri": "https://localhost:8080/"
        },
        "id": "bLIc7FgnZ5WE",
        "outputId": "aff48e63-dd6a-47f3-87ee-9f5be7a58d22"
      },
      "execution_count": 10,
      "outputs": [
        {
          "output_type": "stream",
          "name": "stdout",
          "text": [
            "Accuracy: 0.965\n"
          ]
        }
      ]
    },
    {
      "cell_type": "code",
      "source": [
        "import pandas as pd\n",
        "import numpy as np\n",
        "from tensorflow.keras.models import Sequential\n",
        "from tensorflow.keras.layers import Dense\n",
        "from sklearn.model_selection import train_test_split\n",
        "from sklearn.metrics import accuracy_score\n",
        "\n",
        "# load the dataset\n",
        "data = pd.read_csv('https://raw.githubusercontent.com/alifrmf/Mobile-Price-Prediction-Classification-Analysis/main/Mobile-data-train.csv')\n",
        "\n",
        "# separate the features and target variable\n",
        "X = data.drop(['price_range'], axis=1)\n",
        "y = data['price_range']\n",
        "\n",
        "# split the dataset into training and testing sets\n",
        "X_train, X_test, y_train, y_test = train_test_split(X, y, test_size=0.2, random_state=42)\n",
        "\n",
        "# create a neural network model\n",
        "model = Sequential([\n",
        "    Dense(64, activation='relu', input_shape=(20,)),\n",
        "    Dense(4, activation='softmax')\n",
        "])\n",
        "\n",
        "# compile the model\n",
        "model.compile(optimizer='adam', loss='sparse_categorical_crossentropy', metrics=['accuracy'])\n",
        "\n",
        "# fit the model on the training data\n",
        "model.fit(X_train, y_train, epochs=10, batch_size=32, verbose=1)\n",
        "\n",
        "# evaluate the model on the testing data\n",
        "accuracy = model.evaluate(X_test, y_test)[1]\n",
        "\n",
        "print('Accuracy:', accuracy)\n"
      ],
      "metadata": {
        "colab": {
          "base_uri": "https://localhost:8080/"
        },
        "id": "geCzYYSzaCqM",
        "outputId": "01cfd81d-1c87-4c50-ddf1-293708c0b3e4"
      },
      "execution_count": 11,
      "outputs": [
        {
          "output_type": "stream",
          "name": "stdout",
          "text": [
            "Epoch 1/10\n",
            "50/50 [==============================] - 1s 2ms/step - loss: 329.5400 - accuracy: 0.1956\n",
            "Epoch 2/10\n",
            "50/50 [==============================] - 0s 1ms/step - loss: 37.6545 - accuracy: 0.3812\n",
            "Epoch 3/10\n",
            "50/50 [==============================] - 0s 2ms/step - loss: 16.6475 - accuracy: 0.4600\n",
            "Epoch 4/10\n",
            "50/50 [==============================] - 0s 2ms/step - loss: 10.4908 - accuracy: 0.5025\n",
            "Epoch 5/10\n",
            "50/50 [==============================] - 0s 1ms/step - loss: 9.3801 - accuracy: 0.5100\n",
            "Epoch 6/10\n",
            "50/50 [==============================] - 0s 1ms/step - loss: 7.6819 - accuracy: 0.5213\n",
            "Epoch 7/10\n",
            "50/50 [==============================] - 0s 1ms/step - loss: 6.0716 - accuracy: 0.5487\n",
            "Epoch 8/10\n",
            "50/50 [==============================] - 0s 1ms/step - loss: 5.2889 - accuracy: 0.5625\n",
            "Epoch 9/10\n",
            "50/50 [==============================] - 0s 1ms/step - loss: 4.8117 - accuracy: 0.5706\n",
            "Epoch 10/10\n",
            "50/50 [==============================] - 0s 1ms/step - loss: 4.9148 - accuracy: 0.5663\n",
            "13/13 [==============================] - 0s 2ms/step - loss: 4.5931 - accuracy: 0.6025\n",
            "Accuracy: 0.6025000214576721\n"
          ]
        }
      ]
    },
    {
      "cell_type": "code",
      "source": [
        "import pandas as pd\n",
        "import numpy as np\n",
        "from sklearn.neighbors import KNeighborsClassifier\n",
        "from sklearn.model_selection import train_test_split\n",
        "from sklearn.metrics import accuracy_score\n",
        "\n",
        "# load the dataset\n",
        "data = pd.read_csv('https://raw.githubusercontent.com/alifrmf/Mobile-Price-Prediction-Classification-Analysis/main/Mobile-data-train.csv')\n",
        "\n",
        "# separate the features and target variable\n",
        "X = data.drop(['price_range'], axis=1)\n",
        "y = data['price_range']\n",
        "\n",
        "# split the dataset into training and testing sets\n",
        "X_train, X_test, y_train, y_test = train_test_split(X, y, test_size=0.2, random_state=42)\n",
        "\n",
        "# create a KNN classifier\n",
        "model = KNeighborsClassifier(n_neighbors=5)\n",
        "\n",
        "# fit the model on the training data\n",
        "model.fit(X_train, y_train)\n",
        "\n",
        "# make predictions on the testing data\n",
        "y_pred = model.predict(X_test)\n",
        "\n",
        "# calculate the accuracy of the model\n",
        "accuracy = accuracy_score(y_test, y_pred)\n",
        "\n",
        "print('Accuracy:', accuracy)\n"
      ],
      "metadata": {
        "colab": {
          "base_uri": "https://localhost:8080/"
        },
        "id": "cinhAM3laF0_",
        "outputId": "45fadb0e-50fe-4f51-a7ac-0ec2a514a782"
      },
      "execution_count": 12,
      "outputs": [
        {
          "output_type": "stream",
          "name": "stdout",
          "text": [
            "Accuracy: 0.9425\n"
          ]
        }
      ]
    },
    {
      "cell_type": "code",
      "source": [],
      "metadata": {
        "id": "xDk8h_6laZrz"
      },
      "execution_count": 6,
      "outputs": []
    }
  ]
}